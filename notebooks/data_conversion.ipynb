{
 "cells": [
  {
   "cell_type": "code",
   "execution_count": 1,
   "id": "b8155513-653c-47a4-be2d-7fd57f4be5c4",
   "metadata": {},
   "outputs": [],
   "source": [
    "import os\n",
    "import cv2\n",
    "import pandas as pd"
   ]
  },
  {
   "cell_type": "markdown",
   "id": "985e44c7-4642-479f-a8c8-d59935532140",
   "metadata": {},
   "source": [
    "## Load data"
   ]
  },
  {
   "cell_type": "code",
   "execution_count": 2,
   "id": "0a745df4-b7b6-4521-9de1-011225f8c339",
   "metadata": {},
   "outputs": [],
   "source": [
    "labels_df = pd.read_csv('../data/annotations.tsv', sep='\\t')"
   ]
  },
  {
   "cell_type": "code",
   "execution_count": 3,
   "id": "bd7d25d5-0b6f-44e6-93a4-d7427d493116",
   "metadata": {},
   "outputs": [
    {
     "data": {
      "text/html": [
       "<div>\n",
       "<style scoped>\n",
       "    .dataframe tbody tr th:only-of-type {\n",
       "        vertical-align: middle;\n",
       "    }\n",
       "\n",
       "    .dataframe tbody tr th {\n",
       "        vertical-align: top;\n",
       "    }\n",
       "\n",
       "    .dataframe thead th {\n",
       "        text-align: right;\n",
       "    }\n",
       "</style>\n",
       "<table border=\"1\" class=\"dataframe\">\n",
       "  <thead>\n",
       "    <tr style=\"text-align: right;\">\n",
       "      <th></th>\n",
       "      <th>filename</th>\n",
       "      <th>code</th>\n",
       "      <th>x_from</th>\n",
       "      <th>y_from</th>\n",
       "      <th>width</th>\n",
       "      <th>height</th>\n",
       "    </tr>\n",
       "  </thead>\n",
       "  <tbody>\n",
       "    <tr>\n",
       "      <th>0</th>\n",
       "      <td>images/c234c76c-d72d-4d60-8066-e99f62361c1c--r...</td>\n",
       "      <td>4810153026194</td>\n",
       "      <td>210</td>\n",
       "      <td>542</td>\n",
       "      <td>279</td>\n",
       "      <td>143</td>\n",
       "    </tr>\n",
       "    <tr>\n",
       "      <th>1</th>\n",
       "      <td>images/0b56af7e-386c-410a-8f46-74350f755d77--r...</td>\n",
       "      <td>8714100708408</td>\n",
       "      <td>216</td>\n",
       "      <td>474</td>\n",
       "      <td>409</td>\n",
       "      <td>308</td>\n",
       "    </tr>\n",
       "    <tr>\n",
       "      <th>2</th>\n",
       "      <td>images/77c7bd8d-bb64-4c4b-94c5-798a903eaa4d--r...</td>\n",
       "      <td>4820240030508</td>\n",
       "      <td>173</td>\n",
       "      <td>657</td>\n",
       "      <td>589</td>\n",
       "      <td>293</td>\n",
       "    </tr>\n",
       "    <tr>\n",
       "      <th>3</th>\n",
       "      <td>images/5d60b81b-e31d-4530-bed1-27a8872d1f02--r...</td>\n",
       "      <td>4607001770350</td>\n",
       "      <td>66</td>\n",
       "      <td>665</td>\n",
       "      <td>549</td>\n",
       "      <td>176</td>\n",
       "    </tr>\n",
       "    <tr>\n",
       "      <th>4</th>\n",
       "      <td>images/bb225480-a447-4232-85ab-ce22f1dec070--r...</td>\n",
       "      <td>4605035006964</td>\n",
       "      <td>269</td>\n",
       "      <td>592</td>\n",
       "      <td>448</td>\n",
       "      <td>247</td>\n",
       "    </tr>\n",
       "  </tbody>\n",
       "</table>\n",
       "</div>"
      ],
      "text/plain": [
       "                                            filename           code  x_from  \\\n",
       "0  images/c234c76c-d72d-4d60-8066-e99f62361c1c--r...  4810153026194     210   \n",
       "1  images/0b56af7e-386c-410a-8f46-74350f755d77--r...  8714100708408     216   \n",
       "2  images/77c7bd8d-bb64-4c4b-94c5-798a903eaa4d--r...  4820240030508     173   \n",
       "3  images/5d60b81b-e31d-4530-bed1-27a8872d1f02--r...  4607001770350      66   \n",
       "4  images/bb225480-a447-4232-85ab-ce22f1dec070--r...  4605035006964     269   \n",
       "\n",
       "   y_from  width  height  \n",
       "0     542    279     143  \n",
       "1     474    409     308  \n",
       "2     657    589     293  \n",
       "3     665    549     176  \n",
       "4     592    448     247  "
      ]
     },
     "execution_count": 3,
     "metadata": {},
     "output_type": "execute_result"
    }
   ],
   "source": [
    "labels_df.head()"
   ]
  },
  {
   "cell_type": "markdown",
   "id": "7105224a-afd3-462b-b1bf-dde1d28a4cec",
   "metadata": {},
   "source": [
    "## Convert labels to YOLO"
   ]
  },
  {
   "cell_type": "code",
   "execution_count": 4,
   "id": "aa76acd6-7fa2-4295-886e-6886a51bbaee",
   "metadata": {},
   "outputs": [
    {
     "name": "stdout",
     "output_type": "stream",
     "text": [
      "mkdir: cannot create directory ‘../data/labels’: File exists\n"
     ]
    }
   ],
   "source": [
    "!mkdir ../data/labels"
   ]
  },
  {
   "cell_type": "code",
   "execution_count": 5,
   "id": "c2a47a69-2071-4dad-afd4-b1c69ef4e7c4",
   "metadata": {},
   "outputs": [],
   "source": [
    "src_dir = '../data/labels'\n",
    "\n",
    "for _, item in labels_df.iterrows():\n",
    "    file_name = item['filename'].split('/')[1]\n",
    "    dst_path = os.path.join(src_dir, file_name.replace('.jpg', '.txt'))\n",
    "\n",
    "    img = cv2.imread(f'../data/{item[\"filename\"]}')\n",
    "\n",
    "    img_size = (img.shape[1], img.shape[0])\n",
    "\n",
    "    x_center = (item['x_from'] + item['width'] // 2) / img_size[0]\n",
    "    y_center = (item['y_from'] + item['height'] // 2) / img_size[1]\n",
    "    width = item['width'] / img_size[0]\n",
    "    height = item['height'] / img_size[1]\n",
    "    \n",
    "    with open(dst_path, 'wt') as file:\n",
    "        file.write(f'0 {x_center} {y_center} {width} {height}\\n')"
   ]
  }
 ],
 "metadata": {
  "kernelspec": {
   "display_name": "Python 3 (ipykernel)",
   "language": "python",
   "name": "python3"
  },
  "language_info": {
   "codemirror_mode": {
    "name": "ipython",
    "version": 3
   },
   "file_extension": ".py",
   "mimetype": "text/x-python",
   "name": "python",
   "nbconvert_exporter": "python",
   "pygments_lexer": "ipython3",
   "version": "3.10.12"
  }
 },
 "nbformat": 4,
 "nbformat_minor": 5
}
